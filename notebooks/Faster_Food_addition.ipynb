{
 "cells": [
  {
   "cell_type": "markdown",
   "metadata": {},
   "source": [
    "Attempting to vectorise addition of food at random locations."
   ]
  },
  {
   "cell_type": "code",
   "execution_count": 1,
   "metadata": {},
   "outputs": [],
   "source": [
    "import torch\n",
    "import numpy as np"
   ]
  },
  {
   "cell_type": "code",
   "execution_count": 2,
   "metadata": {},
   "outputs": [
    {
     "data": {
      "text/plain": [
       "tensor([[0., 0., 1., 1.],\n",
       "        [0., 0., 1., 2.],\n",
       "        [0., 0., 2., 1.],\n",
       "        [0., 0., 2., 2.],\n",
       "        [1., 0., 1., 1.],\n",
       "        [1., 0., 1., 2.],\n",
       "        [1., 0., 2., 1.],\n",
       "        [1., 0., 2., 2.],\n",
       "        [2., 0., 1., 1.],\n",
       "        [2., 0., 1., 2.],\n",
       "        [2., 0., 2., 1.],\n",
       "        [2., 0., 2., 2.],\n",
       "        [3., 0., 1., 1.],\n",
       "        [3., 0., 1., 2.],\n",
       "        [3., 0., 2., 1.],\n",
       "        [3., 0., 2., 2.]])"
      ]
     },
     "execution_count": 2,
     "metadata": {},
     "output_type": "execute_result"
    }
   ],
   "source": [
    "A = torch.Tensor([\n",
    "    [0, 0, 1, 1],\n",
    "    [0, 0, 1, 2],\n",
    "    [0, 0, 2, 1],\n",
    "    [0, 0, 2, 2],\n",
    "    [1, 0, 1, 1],\n",
    "    [1, 0, 1, 2],\n",
    "    [1, 0, 2, 1],\n",
    "    [1, 0, 2, 2],\n",
    "    [2, 0, 1, 1],\n",
    "    [2, 0, 1, 2],\n",
    "    [2, 0, 2, 1],\n",
    "    [2, 0, 2, 2],\n",
    "    [3, 0, 1, 1],\n",
    "    [3, 0, 1, 2],\n",
    "    [3, 0, 2, 1],\n",
    "    [3, 0, 2, 2],\n",
    "])\n",
    "A"
   ]
  },
  {
   "cell_type": "code",
   "execution_count": 3,
   "metadata": {},
   "outputs": [
    {
     "data": {
      "text/plain": [
       "tensor([[0., 0., 1., 1.],\n",
       "        [0., 0., 1., 2.],\n",
       "        [0., 0., 2., 1.],\n",
       "        [0., 0., 2., 2.],\n",
       "        [1., 0., 1., 1.],\n",
       "        [1., 0., 1., 2.],\n",
       "        [1., 0., 2., 1.],\n",
       "        [1., 0., 2., 2.],\n",
       "        [2., 0., 1., 1.],\n",
       "        [2., 0., 1., 2.],\n",
       "        [2., 0., 2., 1.],\n",
       "        [2., 0., 2., 2.],\n",
       "        [3., 0., 1., 1.],\n",
       "        [3., 0., 1., 2.],\n",
       "        [3., 0., 2., 1.],\n",
       "        [3., 0., 2., 2.]])"
      ]
     },
     "execution_count": 3,
     "metadata": {},
     "output_type": "execute_result"
    }
   ],
   "source": [
    "torch.unique(A, dim=0)"
   ]
  },
  {
   "cell_type": "code",
   "execution_count": 4,
   "metadata": {},
   "outputs": [
    {
     "name": "stdout",
     "output_type": "stream",
     "text": [
      "tensor([[0.],\n",
      "        [0.],\n",
      "        [0.],\n",
      "        [0.],\n",
      "        [1.],\n",
      "        [1.],\n",
      "        [1.],\n",
      "        [1.],\n",
      "        [2.],\n",
      "        [2.],\n",
      "        [2.],\n",
      "        [2.],\n",
      "        [3.],\n",
      "        [3.],\n",
      "        [3.],\n",
      "        [3.]])\n",
      "tensor([[0., 1., 1.],\n",
      "        [0., 1., 2.],\n",
      "        [0., 2., 1.],\n",
      "        [0., 2., 2.],\n",
      "        [0., 1., 1.],\n",
      "        [0., 1., 2.],\n",
      "        [0., 2., 1.],\n",
      "        [0., 2., 2.],\n",
      "        [0., 1., 1.],\n",
      "        [0., 1., 2.],\n",
      "        [0., 2., 1.],\n",
      "        [0., 2., 2.],\n",
      "        [0., 1., 1.],\n",
      "        [0., 1., 2.],\n",
      "        [0., 2., 1.],\n",
      "        [0., 2., 2.]])\n"
     ]
    }
   ],
   "source": [
    "print(A[:, :1])\n",
    "print(A[:, 1:])"
   ]
  },
  {
   "cell_type": "code",
   "execution_count": 5,
   "metadata": {},
   "outputs": [
    {
     "data": {
      "text/plain": [
       "tensor([0., 0., 0., 0., 0., 0., 0., 0., 0., 0., 0., 0., 0., 0., 0., 0.])"
      ]
     },
     "execution_count": 5,
     "metadata": {},
     "output_type": "execute_result"
    }
   ],
   "source": [
    "mask = torch.zeros(len(A))\n",
    "mask"
   ]
  },
  {
   "cell_type": "code",
   "execution_count": 6,
   "metadata": {},
   "outputs": [],
   "source": [
    "aux = A[:, :1]"
   ]
  },
  {
   "cell_type": "code",
   "execution_count": 7,
   "metadata": {},
   "outputs": [
    {
     "data": {
      "text/plain": [
       "tensor([1., 0., 0., 0., 1., 0., 0., 0., 1., 0., 0., 0., 1., 0., 0., 0.])"
      ]
     },
     "execution_count": 7,
     "metadata": {},
     "output_type": "execute_result"
    }
   ],
   "source": [
    "mask[:1] = 1\n",
    "mask[1:] = (aux[1:] != aux[:-1]).squeeze()\n",
    "mask"
   ]
  },
  {
   "cell_type": "code",
   "execution_count": 8,
   "metadata": {},
   "outputs": [
    {
     "data": {
      "text/plain": [
       "tensor([[0., 0., 1., 1.],\n",
       "        [1., 0., 1., 1.],\n",
       "        [2., 0., 1., 1.],\n",
       "        [3., 0., 1., 1.]])"
      ]
     },
     "execution_count": 8,
     "metadata": {},
     "output_type": "execute_result"
    }
   ],
   "source": [
    "A[mask.byte()]"
   ]
  },
  {
   "cell_type": "markdown",
   "metadata": {},
   "source": [
    "Not bad let's add some randomisation as that will always pick the first row for each image."
   ]
  },
  {
   "cell_type": "code",
   "execution_count": 34,
   "metadata": {},
   "outputs": [],
   "source": [
    "def unique1d(tensor, return_index=False):\n",
    "    \"\"\"Port of np.unique to PyTorch with the full `return_index` functionality\"\"\"\n",
    "    assert len(tensor.shape) == 1\n",
    "    \n",
    "    optional_indices = return_index\n",
    "\n",
    "    if optional_indices:\n",
    "        perm = tensor.argsort()\n",
    "        aux = tensor[perm]\n",
    "    else:\n",
    "        tensor.sort_()#[0]\n",
    "        aux = tensor\n",
    "        \n",
    "    mask = torch.zeros(aux.shape)\n",
    "    mask[:1] = 1\n",
    "    mask[1:] = aux[1:] != aux[:-1]\n",
    "    \n",
    "    ret = (aux[mask.byte()],)\n",
    "    if return_index:\n",
    "        ret += (perm[mask.byte()],)\n",
    "        \n",
    "    return ret\n",
    "    \n",
    "    "
   ]
  },
  {
   "cell_type": "code",
   "execution_count": 35,
   "metadata": {},
   "outputs": [
    {
     "data": {
      "text/plain": [
       "(tensor([0., 1., 2., 3.]), tensor([ 0,  6,  8, 12]))"
      ]
     },
     "execution_count": 35,
     "metadata": {},
     "output_type": "execute_result"
    }
   ],
   "source": [
    "unique1d(A[:, 0], return_index=True)"
   ]
  },
  {
   "cell_type": "code",
   "execution_count": 36,
   "metadata": {},
   "outputs": [
    {
     "data": {
      "text/plain": [
       "tensor([[2., 0., 2., 1.],\n",
       "        [3., 0., 1., 2.],\n",
       "        [1., 0., 2., 2.],\n",
       "        [2., 0., 1., 1.],\n",
       "        [3., 0., 2., 1.],\n",
       "        [1., 0., 1., 2.],\n",
       "        [0., 0., 1., 1.],\n",
       "        [0., 0., 2., 2.],\n",
       "        [3., 0., 1., 1.],\n",
       "        [1., 0., 1., 1.],\n",
       "        [0., 0., 2., 1.],\n",
       "        [3., 0., 2., 2.],\n",
       "        [1., 0., 2., 1.],\n",
       "        [2., 0., 2., 2.],\n",
       "        [0., 0., 1., 2.],\n",
       "        [2., 0., 1., 2.]])"
      ]
     },
     "execution_count": 36,
     "metadata": {},
     "output_type": "execute_result"
    }
   ],
   "source": [
    "A[torch.randperm(len(A))]"
   ]
  },
  {
   "cell_type": "code",
   "execution_count": 37,
   "metadata": {},
   "outputs": [
    {
     "data": {
      "text/plain": [
       "(tensor([0., 1., 2., 3.]), tensor([ 2,  0, 10, 11]))"
      ]
     },
     "execution_count": 37,
     "metadata": {},
     "output_type": "execute_result"
    }
   ],
   "source": [
    "unique1d(A[torch.randperm(len(A))][:, 0], return_index=True)"
   ]
  },
  {
   "cell_type": "code",
   "execution_count": 48,
   "metadata": {},
   "outputs": [
    {
     "data": {
      "text/plain": [
       "tensor([[0., 0., 1., 1.],\n",
       "        [1., 0., 1., 1.],\n",
       "        [2., 0., 2., 2.],\n",
       "        [3., 0., 2., 2.]])"
      ]
     },
     "execution_count": 48,
     "metadata": {},
     "output_type": "execute_result"
    }
   ],
   "source": [
    "def get_unique_by_column(tensor, column):\n",
    "    assert len(tensor.shape) == 2\n",
    "    \n",
    "    tensor = tensor[torch.randperm(len(tensor))]\n",
    "    \n",
    "    uniq = tensor[:, column]\n",
    "    \n",
    "    indices = unique1d(uniq, return_index=True)[1]\n",
    "    \n",
    "    return tensor[indices.long()]\n",
    "    \n",
    "\n",
    "get_unique_by_column(A, 0)"
   ]
  },
  {
   "cell_type": "code",
   "execution_count": null,
   "metadata": {},
   "outputs": [],
   "source": []
  },
  {
   "cell_type": "code",
   "execution_count": null,
   "metadata": {},
   "outputs": [],
   "source": []
  },
  {
   "cell_type": "code",
   "execution_count": null,
   "metadata": {},
   "outputs": [],
   "source": []
  },
  {
   "cell_type": "code",
   "execution_count": null,
   "metadata": {},
   "outputs": [],
   "source": []
  },
  {
   "cell_type": "code",
   "execution_count": null,
   "metadata": {},
   "outputs": [],
   "source": []
  }
 ],
 "metadata": {
  "kernelspec": {
   "display_name": "Python 3",
   "language": "python",
   "name": "python3"
  },
  "language_info": {
   "codemirror_mode": {
    "name": "ipython",
    "version": 3
   },
   "file_extension": ".py",
   "mimetype": "text/x-python",
   "name": "python",
   "nbconvert_exporter": "python",
   "pygments_lexer": "ipython3",
   "version": "3.6.5"
  }
 },
 "nbformat": 4,
 "nbformat_minor": 2
}
