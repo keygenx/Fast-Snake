{
 "cells": [
  {
   "cell_type": "markdown",
   "metadata": {},
   "source": [
    "# Env v2\n",
    "Implement everything with just convolutions on batches of worlds"
   ]
  },
  {
   "cell_type": "code",
   "execution_count": 1,
   "metadata": {},
   "outputs": [],
   "source": [
    "import torch\n",
    "import numpy as np\n",
    "from torch.nn.functional import conv2d, relu\n",
    "import matplotlib.pyplot as plt\n",
    "from scipy.signal import convolve2d"
   ]
  },
  {
   "cell_type": "code",
   "execution_count": 2,
   "metadata": {},
   "outputs": [],
   "source": [
    "ORIENTATION_FILTERS = torch.Tensor([\n",
    "    [\n",
    "        [0, 1, 0],\n",
    "        [0, -1, 0],\n",
    "        [0, 0, 0],\n",
    "    ],\n",
    "    [\n",
    "        [0, 0, 0],\n",
    "        [0, -1, 1],\n",
    "        [0, 0, 0],\n",
    "    ],\n",
    "    [\n",
    "        [0, 0, 0],\n",
    "        [0, -1, 0],\n",
    "        [0, 1, 0],\n",
    "    ],\n",
    "    [\n",
    "        [0, 0, 0],\n",
    "        [1, -1, 0],\n",
    "        [0, 0, 0],\n",
    "    ],\n",
    "]).unsqueeze(1).float()"
   ]
  },
  {
   "cell_type": "code",
   "execution_count": 3,
   "metadata": {},
   "outputs": [],
   "source": [
    "SIZE = 12\n",
    "FOOD_CHANNEL = 0\n",
    "FOOD_REWARD = 1\n",
    "HEAD_CHANNEL = 1\n",
    "BODY_CHANNEL = 2\n",
    "OPPOSITE_DIRECTION = {\n",
    "    'up': 'down',\n",
    "    'down': 'up',\n",
    "    'left': 'right',\n",
    "    'right': 'left'\n",
    "}\n",
    "DIRECTION_TO_CONV = {\n",
    "    'up': torch.tensor([\n",
    "        [0, 1, 0],\n",
    "        [0, -1, 0],\n",
    "        [0, 0, 0],\n",
    "    ]).float().unsqueeze(0).unsqueeze(0),\n",
    "    'right': torch.tensor([\n",
    "        [0, 0, 0],\n",
    "        [1, -1, 0],\n",
    "        [0, 0, 0],\n",
    "    ]).float().unsqueeze(0).unsqueeze(0),\n",
    "    'down': torch.tensor([\n",
    "        [0, 0, 0],\n",
    "        [0, 0, 0],\n",
    "        [0, 1, 0],\n",
    "    ]).float().unsqueeze(0).unsqueeze(0),\n",
    "    'left': torch.tensor([\n",
    "        [0, 0, 0],\n",
    "        [0, 0, 1],\n",
    "        [0, 0, 0],\n",
    "    ]).float().unsqueeze(0).unsqueeze(0),\n",
    "}\n",
    "NO_CHANGE_CONV = torch.tensor([\n",
    "    [0, 0, 0],\n",
    "    [0, 1, 0],\n",
    "    [0, 0, 0],\n",
    "]).float().unsqueeze(0).unsqueeze(0)\n",
    "EMPTY_CONV = torch.tensor([\n",
    "    [0, 0, 0],\n",
    "    [0, 0, 0],\n",
    "    [0, 0, 0],\n",
    "]).float().unsqueeze(0).unsqueeze(0)"
   ]
  },
  {
   "cell_type": "code",
   "execution_count": 4,
   "metadata": {},
   "outputs": [
    {
     "data": {
      "image/png": "[encoded data removed]",
      "text/plain": [
       "<Figure size 432x288 with 1 Axes>"
      ]
     },
     "metadata": {
      "needs_background": "light"
     },
     "output_type": "display_data"
    }
   ],
   "source": [
    "def get_test_world(orientation='up'):\n",
    "    world  = torch.zeros((1, 3, SIZE, SIZE))\n",
    "    if orientation == 'up':\n",
    "        world[0, BODY_CHANNEL, 3, 3] = 1\n",
    "        world[0, BODY_CHANNEL, 3, 4] = 2\n",
    "        world[0, BODY_CHANNEL, 4, 4] = 3\n",
    "        world[0, BODY_CHANNEL, 5, 4] = 4\n",
    "        \n",
    "        world[0, HEAD_CHANNEL, 5, 4] = 1\n",
    "\n",
    "        world[0, FOOD_CHANNEL, 6, 6] = 1\n",
    "    elif orientation == 'right':\n",
    "        world[0, BODY_CHANNEL, 3, 3] = 1\n",
    "        world[0, BODY_CHANNEL, 3, 4] = 2\n",
    "        world[0, BODY_CHANNEL, 4, 4] = 3\n",
    "        world[0, BODY_CHANNEL, 4, 5] = 4\n",
    "        \n",
    "        world[0, HEAD_CHANNEL, 4, 5] = 1\n",
    "\n",
    "        world[0, FOOD_CHANNEL, 6, 9] = 1\n",
    "    elif orientation == 'down':\n",
    "        world[0, BODY_CHANNEL, 8, 8] = 1\n",
    "        world[0, BODY_CHANNEL, 7, 8] = 2\n",
    "        world[0, BODY_CHANNEL, 6, 8] = 3\n",
    "        world[0, BODY_CHANNEL, 5, 8] = 4\n",
    "        \n",
    "        world[0, HEAD_CHANNEL, 5, 8] = 1\n",
    "\n",
    "        world[0, FOOD_CHANNEL, 7, 2] = 1 \n",
    "    elif orientation == 'left':\n",
    "        world[0, BODY_CHANNEL, 8, 7] = 1\n",
    "        world[0, BODY_CHANNEL, 7, 7] = 2\n",
    "        world[0, BODY_CHANNEL, 6, 7] = 3\n",
    "        world[0, BODY_CHANNEL, 6, 6] = 4\n",
    "        \n",
    "        world[0, HEAD_CHANNEL, 6, 6] = 1\n",
    "\n",
    "        world[0, FOOD_CHANNEL, 1, 2] = 1 \n",
    "    else:\n",
    "        raise Exception\n",
    "    \n",
    "    return world\n",
    "\n",
    "def plot_world(world, mode='single'):\n",
    "    if mode == 'single':\n",
    "        img = (world[0, BODY_CHANNEL, :, :].numpy() > 0) * 0.5\n",
    "        img += world[0, HEAD_CHANNEL, :, :].numpy() * 0.5\n",
    "        img += world[0, FOOD_CHANNEL, :, :].numpy() * 1.5\n",
    "        plt.imshow(img, vmin=0, vmax=1.5)\n",
    "        plt.xlim((0, SIZE-1))\n",
    "        plt.ylim((0, SIZE-1))\n",
    "        plt.grid()\n",
    "    if mode == 'multi':\n",
    "        fig, axes = plt.subplots(1, 3, figsize=(15, 5))\n",
    "\n",
    "        for i, title in zip(range(3), ['Food','Head','Body']):\n",
    "            axes[i].set_title(title)\n",
    "            axes[i].imshow(world[0, i, : ,:].numpy())\n",
    "            axes[i].grid()\n",
    "            axes[i].set_xlim((0, SIZE-1))\n",
    "            axes[i].set_ylim((0, SIZE-1))\n",
    "\n",
    "plot_world(get_test_world('left'))"
   ]
  },
  {
   "cell_type": "code",
   "execution_count": 5,
   "metadata": {
    "scrolled": false
   },
   "outputs": [
    {
     "data": {
      "text/plain": [
       "tensor([2, 1, 0, 3])"
      ]
     },
     "execution_count": 5,
     "metadata": {},
     "output_type": "execute_result"
    }
   ],
   "source": [
    "def determine_orientations(worlds):\n",
    "    \"\"\"Returns a batch of snake orientations from a batch of worlds.\"\"\"\n",
    "    # Generate \"neck\" channel where the head is +1, the next piece of the snake\n",
    "    # is -1 and the rest are 0\n",
    "    n = worlds.shape[0]\n",
    "    bodies = worlds[:, BODY_CHANNEL:BODY_CHANNEL+1, :]\n",
    "    snake_sizes = bodies.view(n, -1).max(dim=1)[0]\n",
    "    snake_sizes.sub_(2)\n",
    "    shift = snake_sizes[:, None, None, None].expand_as(bodies)\n",
    "    necks = relu(bodies - shift)\n",
    "    necks.sub_(1.5*(torch.ones_like(necks) * (necks > 0).float()))\n",
    "    necks.mul_(2)\n",
    "    \n",
    "    # Convolve with 4 predetermined filters one of which will be more activated\n",
    "    # because it lines up with the orientation of the snake\n",
    "    responses = conv2d(necks, ORIENTATION_FILTERS, padding=1)\n",
    "    \n",
    "    # Find which filter\n",
    "    responses = responses.view(n, 4, -1)\n",
    "    orientations = responses.max(dim=-1)[0].argmax(dim=-1)\n",
    "    \n",
    "    return orientations\n",
    "\n",
    "determine_orientations(torch.cat([\n",
    "    get_test_world('up'), get_test_world('right'), get_test_world('down'), get_test_world('left')], dim=0)\n",
    ")"
   ]
  },
  {
   "cell_type": "code",
   "execution_count": 6,
   "metadata": {},
   "outputs": [],
   "source": [
    "def food(worlds):\n",
    "    return worlds[:, FOOD_CHANNEL:FOOD_CHANNEL+1]\n",
    "\n",
    "def head(worlds):\n",
    "    return worlds[:, HEAD_CHANNEL:HEAD_CHANNEL+1]\n",
    "\n",
    "def body(worlds):\n",
    "    return worlds[:, BODY_CHANNEL:BODY_CHANNEL+1]"
   ]
  },
  {
   "cell_type": "code",
   "execution_count": 7,
   "metadata": {},
   "outputs": [],
   "source": [
    "def step_worlds(worlds, actions):\n",
    "    n = worlds.shape[0]\n",
    "    assert n == actions.shape[0]\n",
    "    \n",
    "    reward = torch.zeros((n,)).long()\n",
    "    done = torch.zeros((n,)).byte()\n",
    "    info = [dict(), ] * n\n",
    "\n",
    "    snake_sizes = worlds[:, BODY_CHANNEL:BODY_CHANNEL+1, :].view(n, -1).max(dim=1)[0]\n",
    "    \n",
    "    orientations = determine_orientations(worlds)\n",
    "    \n",
    "    # Check if any snakes are trying to move backwards and change\n",
    "    # their direction/action to just continue forward\n",
    "    # The test for this is if their orientation number {0, 1, 2, 3}\n",
    "    # is the same as their action\n",
    "    mask = orientations == actions\n",
    "    actions.add_((mask * 2).long()).fmod_(4)\n",
    "\n",
    "    # Create head position deltas\n",
    "    head_deltas = conv2d(head(worlds), ORIENTATION_FILTERS, padding=1)\n",
    "    \n",
    "    # Mask the head-movement deltas with direction action\n",
    "    head_deltas = torch.index_select(head_deltas, 1, actions.long())\n",
    "    \n",
    "    # Move head position by applying delta\n",
    "    worlds[:, HEAD_CHANNEL:HEAD_CHANNEL+1, :, :].add_(head_deltas)\n",
    "    \n",
    "    # Check for hitting self\n",
    "    hit_self = (head(worlds) * body(worlds)).view(n, -1).sum(dim=-1) > 0\n",
    "    done = torch.clamp(done + hit_self, 0, 1)\n",
    "\n",
    "    ################\n",
    "    # Apply update #\n",
    "    ################\n",
    "    \n",
    "    # Decay the body sizes by 1, hence moving the body\n",
    "    body_movement = torch.zeros_like(worlds)\n",
    "    body_movement[:, BODY_CHANNEL, :, :] = -1\n",
    "    worlds = relu(worlds + body_movement)\n",
    "    # Create a new head position in the body channel\n",
    "    worlds[:, BODY_CHANNEL:BODY_CHANNEL+1, :, :] += \\\n",
    "        head(worlds) * snake_sizes[:, None, None, None].expand((n, 1, SIZE, SIZE))\n",
    "    # Apply food growth i.e. +1 to all snake locations\n",
    "    worlds[:, BODY_CHANNEL:BODY_CHANNEL+1, :, :] += \\\n",
    "        ((head(worlds) * food(worlds)).sum() > 0) * body(worlds).clamp(0, 1)\n",
    "   \n",
    "    # Remove food if neccessary\n",
    "    food_removal = head(worlds) * food(worlds) * -1\n",
    "    reward.sub_(food_removal.view(n, -1).sum(dim=-1).long())\n",
    "    worlds[:, FOOD_CHANNEL:FOOD_CHANNEL+1, :, :] += food_removal\n",
    "    # Add new food if necessary\n",
    "    pass  # Add a random food location multipled by ((head * food).sum() > 0)\n",
    "\n",
    "    # Check for boundary, Done by performing a convolution with no padding\n",
    "    # If the head is at the edge then it will be cut off and the sum of the head\n",
    "    # channel will be 0\n",
    "    head_at_edge = conv2d(\n",
    "        head(worlds),\n",
    "        NO_CHANGE_CONV,\n",
    "    ).view(n, -1).sum(dim=-1) == 0\n",
    "    done = torch.clamp(done + head_at_edge, 0, 1)\n",
    "    \n",
    "    # Some asserts:\n",
    "    # Only one head per snake channel\n",
    "    assert torch.all(head(worlds).view(n, -1).sum(dim=-1) == 1)\n",
    "    \n",
    "    return worlds, reward, done, info"
   ]
  },
  {
   "cell_type": "code",
   "execution_count": 8,
   "metadata": {},
   "outputs": [
    {
     "data": {
      "image/png": "[encoded data removed]",
      "text/plain": [
       "<Figure size 432x288 with 1 Axes>"
      ]
     },
     "metadata": {
      "needs_background": "light"
     },
     "output_type": "display_data"
    },
    {
     "name": "stdout",
     "output_type": "stream",
     "text": [
      "tensor([0])\n"
     ]
    },
    {
     "data": {
      "image/png": "[encoded data removed]",
      "text/plain": [
       "<Figure size 432x288 with 1 Axes>"
      ]
     },
     "metadata": {
      "needs_background": "light"
     },
     "output_type": "display_data"
    },
    {
     "name": "stdout",
     "output_type": "stream",
     "text": [
      "tensor([0])\n"
     ]
    },
    {
     "data": {
      "image/png": "[encoded data removed]",
      "text/plain": [
       "<Figure size 432x288 with 1 Axes>"
      ]
     },
     "metadata": {
      "needs_background": "light"
     },
     "output_type": "display_data"
    },
    {
     "name": "stdout",
     "output_type": "stream",
     "text": [
      "tensor([1])\n"
     ]
    },
    {
     "data": {
      "image/png": "[encoded data removed]",
      "text/plain": [
       "<Figure size 432x288 with 1 Axes>"
      ]
     },
     "metadata": {
      "needs_background": "light"
     },
     "output_type": "display_data"
    },
    {
     "name": "stdout",
     "output_type": "stream",
     "text": [
      "tensor([0])\n"
     ]
    },
    {
     "data": {
      "image/png": "[encoded data removed]",
      "text/plain": [
       "<Figure size 432x288 with 1 Axes>"
      ]
     },
     "metadata": {
      "needs_background": "light"
     },
     "output_type": "display_data"
    },
    {
     "name": "stdout",
     "output_type": "stream",
     "text": [
      "tensor([0])\n"
     ]
    },
    {
     "data": {
      "image/png": "[encoded data removed]",
      "text/plain": [
       "<Figure size 432x288 with 1 Axes>"
      ]
     },
     "metadata": {
      "needs_background": "light"
     },
     "output_type": "display_data"
    },
    {
     "name": "stdout",
     "output_type": "stream",
     "text": [
      "tensor([0])\n"
     ]
    },
    {
     "data": {
      "image/png": "[encoded data removed]",
      "text/plain": [
       "<Figure size 432x288 with 1 Axes>"
      ]
     },
     "metadata": {
      "needs_background": "light"
     },
     "output_type": "display_data"
    }
   ],
   "source": [
    "# Food eating test\n",
    "# moves = ['up', 'right', 'right', 'up', 'up', 'left']\n",
    "actions = torch.tensor([0, 3, 3, 0, 0, 1]).unsqueeze(1)\n",
    "\n",
    "test_world = get_test_world()\n",
    "for a in actions:\n",
    "    plot_world(test_world, mode='single')\n",
    "    plt.show()\n",
    "    test_world, reward, done, info = step_worlds(test_world, a)\n",
    "    print(reward)\n",
    "\n",
    "plot_world(test_world, mode='single')\n",
    "plt.show()"
   ]
  },
  {
   "cell_type": "code",
   "execution_count": 183,
   "metadata": {},
   "outputs": [
    {
     "data": {
      "text/plain": [
       "tensor([[0, 1, 3]])"
      ]
     },
     "execution_count": 183,
     "metadata": {},
     "output_type": "execute_result"
    }
   ],
   "source": [
    "def get_random_available_location(locs):\n",
    "    locations = torch.nonzero(locs)\n",
    "    random_loc = locations[torch.randperm(locations.shape[0])[:1]]\n",
    "    return random_loc"
   ]
  },
  {
   "cell_type": "code",
   "execution_count": 195,
   "metadata": {},
   "outputs": [
    {
     "data": {
      "text/plain": [
       "tensor([[[[0., 0., 0., 0., 0., 0., 0., 0., 0., 0., 0., 0.],\n",
       "          [0., 0., 0., 0., 0., 1., 0., 0., 0., 0., 0., 0.],\n",
       "          [0., 0., 0., 0., 0., 0., 0., 0., 0., 0., 0., 0.],\n",
       "          [0., 0., 0., 0., 0., 0., 0., 0., 0., 0., 0., 0.],\n",
       "          [0., 0., 0., 0., 0., 0., 0., 0., 0., 0., 0., 0.],\n",
       "          [0., 0., 0., 0., 0., 0., 0., 0., 0., 0., 0., 0.],\n",
       "          [0., 0., 0., 0., 0., 0., 0., 0., 0., 0., 0., 0.],\n",
       "          [0., 0., 0., 0., 0., 0., 0., 0., 0., 0., 0., 0.],\n",
       "          [0., 0., 0., 0., 0., 0., 0., 0., 0., 0., 0., 0.],\n",
       "          [0., 0., 0., 0., 0., 0., 0., 0., 0., 0., 0., 0.],\n",
       "          [0., 0., 0., 0., 0., 0., 0., 0., 0., 0., 0., 0.],\n",
       "          [0., 0., 0., 0., 0., 0., 0., 0., 0., 0., 0., 0.]]],\n",
       "\n",
       "\n",
       "        [[[0., 0., 0., 0., 0., 0., 0., 0., 0., 0., 0., 0.],\n",
       "          [0., 0., 0., 0., 0., 0., 0., 0., 0., 0., 0., 0.],\n",
       "          [0., 0., 0., 0., 0., 0., 0., 0., 0., 1., 0., 0.],\n",
       "          [0., 0., 0., 0., 0., 0., 0., 0., 0., 0., 0., 0.],\n",
       "          [0., 0., 0., 0., 0., 0., 0., 0., 0., 0., 0., 0.],\n",
       "          [0., 0., 0., 0., 0., 0., 0., 0., 0., 0., 0., 0.],\n",
       "          [0., 0., 0., 0., 0., 0., 0., 0., 0., 0., 0., 0.],\n",
       "          [0., 0., 0., 0., 0., 0., 0., 0., 0., 0., 0., 0.],\n",
       "          [0., 0., 0., 0., 0., 0., 0., 0., 0., 0., 0., 0.],\n",
       "          [0., 0., 0., 0., 0., 0., 0., 0., 0., 0., 0., 0.],\n",
       "          [0., 0., 0., 0., 0., 0., 0., 0., 0., 0., 0., 0.],\n",
       "          [0., 0., 0., 0., 0., 0., 0., 0., 0., 0., 0., 0.]]]])"
      ]
     },
     "execution_count": 195,
     "metadata": {},
     "output_type": "execute_result"
    }
   ],
   "source": [
    "test_world = torch.cat([get_test_world(), get_test_world()], dim=0)\n",
    "test_world.shape\n",
    "\n",
    "n = test_world.shape[0]\n",
    "available_locations = test_world.sum(dim=1, keepdim=True) == 0\n",
    "available_locations[:, :, :1, :] = 0\n",
    "available_locations[:, :, :, :1] = 0\n",
    "available_locations[:, :, -1:, :] = 0\n",
    "available_locations[:, :, :, -1:] = 0\n",
    "\n",
    "food_indices = torch.cat([get_random_available_location(locs) for locs in available_locations.unbind()])\n",
    "food_indices = torch.cat([torch.arange(n).unsqueeze(1), food_indices], dim=1)\n",
    "\n",
    "val = torch.ones(len(food_indices))\n",
    "food_addition = torch.sparse.FloatTensor(food_indices.t(), val, available_locations.shape)\n",
    "food_addition = food_addition.to_dense()\n",
    "food_addition"
   ]
  },
  {
   "cell_type": "code",
   "execution_count": 131,
   "metadata": {},
   "outputs": [],
   "source": [
    "# food_addition = torch.zeros_like(available_locations)\n",
    "# index = torch.zeros((1, 1, 12, 12)\n",
    "# food_addition.scatter_(0, torch.zeros((1, 1, 12, 12)).long(), 1)\n",
    "\n",
    "# food_addition"
   ]
  },
  {
   "cell_type": "code",
   "execution_count": null,
   "metadata": {},
   "outputs": [],
   "source": []
  },
  {
   "cell_type": "code",
   "execution_count": null,
   "metadata": {},
   "outputs": [],
   "source": []
  },
  {
   "cell_type": "code",
   "execution_count": null,
   "metadata": {},
   "outputs": [],
   "source": []
  },
  {
   "cell_type": "code",
   "execution_count": null,
   "metadata": {},
   "outputs": [],
   "source": []
  },
  {
   "cell_type": "code",
   "execution_count": null,
   "metadata": {},
   "outputs": [],
   "source": []
  },
  {
   "cell_type": "code",
   "execution_count": null,
   "metadata": {},
   "outputs": [],
   "source": []
  },
  {
   "cell_type": "code",
   "execution_count": 8,
   "metadata": {
    "scrolled": true
   },
   "outputs": [
    {
     "data": {
      "image/png": "[encoded data removed]",
      "text/plain": [
       "<Figure size 432x288 with 1 Axes>"
      ]
     },
     "metadata": {
      "needs_background": "light"
     },
     "output_type": "display_data"
    },
    {
     "data": {
      "image/png": "[encoded data removed]",
      "text/plain": [
       "<Figure size 432x288 with 1 Axes>"
      ]
     },
     "metadata": {
      "needs_background": "light"
     },
     "output_type": "display_data"
    },
    {
     "data": {
      "image/png": "[encoded data removed]",
      "text/plain": [
       "<Figure size 432x288 with 1 Axes>"
      ]
     },
     "metadata": {
      "needs_background": "light"
     },
     "output_type": "display_data"
    },
    {
     "data": {
      "image/png": "[encoded data removed]",
      "text/plain": [
       "<Figure size 432x288 with 1 Axes>"
      ]
     },
     "metadata": {
      "needs_background": "light"
     },
     "output_type": "display_data"
    },
    {
     "data": {
      "image/png": "[encoded data removed]",
      "text/plain": [
       "<Figure size 432x288 with 1 Axes>"
      ]
     },
     "metadata": {
      "needs_background": "light"
     },
     "output_type": "display_data"
    }
   ],
   "source": [
    "# Move backwards test\n",
    "# moves = ['down', 'down', 'down', 'right']\n",
    "actions = torch.tensor([2, 2, 2, 3]).unsqueeze(1)\n",
    "\n",
    "test_world = get_test_world()\n",
    "for m in actions:\n",
    "    plot_world(test_world)\n",
    "    plt.show()\n",
    "    test_world, reward, done, info = step_worlds(test_world, m)\n",
    "    \n",
    "plot_world(test_world)\n",
    "plt.show()"
   ]
  },
  {
   "cell_type": "code",
   "execution_count": 9,
   "metadata": {},
   "outputs": [
    {
     "data": {
      "image/png": "[encoded data removed]",
      "text/plain": [
       "<Figure size 432x288 with 1 Axes>"
      ]
     },
     "metadata": {
      "needs_background": "light"
     },
     "output_type": "display_data"
    },
    {
     "data": {
      "image/png": "[encoded data removed]",
      "text/plain": [
       "<Figure size 432x288 with 1 Axes>"
      ]
     },
     "metadata": {
      "needs_background": "light"
     },
     "output_type": "display_data"
    },
    {
     "data": {
      "image/png": "[encoded data removed]",
      "text/plain": [
       "<Figure size 432x288 with 1 Axes>"
      ]
     },
     "metadata": {
      "needs_background": "light"
     },
     "output_type": "display_data"
    },
    {
     "data": {
      "image/png": "[encoded data removed]",
      "text/plain": [
       "<Figure size 432x288 with 1 Axes>"
      ]
     },
     "metadata": {
      "needs_background": "light"
     },
     "output_type": "display_data"
    },
    {
     "data": {
      "image/png": "[encoded data removed]",
      "text/plain": [
       "<Figure size 432x288 with 1 Axes>"
      ]
     },
     "metadata": {
      "needs_background": "light"
     },
     "output_type": "display_data"
    },
    {
     "data": {
      "image/png": "[encoded data removed]",
      "text/plain": [
       "<Figure size 432x288 with 1 Axes>"
      ]
     },
     "metadata": {
      "needs_background": "light"
     },
     "output_type": "display_data"
    },
    {
     "name": "stdout",
     "output_type": "stream",
     "text": [
      "Hit self\n"
     ]
    },
    {
     "data": {
      "image/png": "[encoded data removed]",
      "text/plain": [
       "<Figure size 432x288 with 1 Axes>"
      ]
     },
     "metadata": {
      "needs_background": "light"
     },
     "output_type": "display_data"
    }
   ],
   "source": [
    "# Hits self test\n",
    "# moves = ['up', 'right', 'right', 'down', 'left', 'up', 'up', 'up']\n",
    "actions = torch.tensor([0, 3, 3, 2, 1, 0, 0, 0]).unsqueeze(1)\n",
    "\n",
    "\n",
    "test_world = get_test_world()\n",
    "for m in actions:\n",
    "    plot_world(test_world, mode='single')\n",
    "    plt.show()\n",
    "    test_world, reward, done, info = step_worlds(test_world, m)\n",
    "    \n",
    "    if done:\n",
    "        print('Hit self')\n",
    "        break\n",
    "    \n",
    "plot_world(test_world, mode='single')\n",
    "plt.show()"
   ]
  },
  {
   "cell_type": "code",
   "execution_count": 10,
   "metadata": {
    "scrolled": true
   },
   "outputs": [
    {
     "data": {
      "image/png": "[encoded data removed]",
      "text/plain": [
       "<Figure size 432x288 with 1 Axes>"
      ]
     },
     "metadata": {
      "needs_background": "light"
     },
     "output_type": "display_data"
    },
    {
     "data": {
      "image/png": "[encoded data removed]",
      "text/plain": [
       "<Figure size 432x288 with 1 Axes>"
      ]
     },
     "metadata": {
      "needs_background": "light"
     },
     "output_type": "display_data"
    },
    {
     "data": {
      "image/png": "[encoded data removed]",
      "text/plain": [
       "<Figure size 432x288 with 1 Axes>"
      ]
     },
     "metadata": {
      "needs_background": "light"
     },
     "output_type": "display_data"
    },
    {
     "data": {
      "image/png": "[encoded data removed]",
      "text/plain": [
       "<Figure size 432x288 with 1 Axes>"
      ]
     },
     "metadata": {
      "needs_background": "light"
     },
     "output_type": "display_data"
    },
    {
     "name": "stdout",
     "output_type": "stream",
     "text": [
      "Hit boundary\n"
     ]
    },
    {
     "data": {
      "image/png": "[encoded data removed]",
      "text/plain": [
       "<Figure size 432x288 with 1 Axes>"
      ]
     },
     "metadata": {
      "needs_background": "light"
     },
     "output_type": "display_data"
    }
   ],
   "source": [
    "# Hits boundary test\n",
    "# moves = ['left'] * 10\n",
    "actions = torch.tensor([1, ]* 10).unsqueeze(1)\n",
    "\n",
    "test_world = get_test_world()\n",
    "for a in actions:\n",
    "    plot_world(test_world)\n",
    "    plt.show()\n",
    "    test_world, reward, done, info = step_worlds(test_world, a)\n",
    "    \n",
    "    if done:\n",
    "        print('Hit boundary')\n",
    "        break\n",
    "    \n",
    "plot_world(test_world)\n",
    "plt.show()"
   ]
  },
  {
   "cell_type": "code",
   "execution_count": 12,
   "metadata": {
    "scrolled": false
   },
   "outputs": [
    {
     "data": {
      "image/png": "[encoded data removed]",
      "text/plain": [
       "<Figure size 432x288 with 1 Axes>"
      ]
     },
     "metadata": {
      "needs_background": "light"
     },
     "output_type": "display_data"
    },
    {
     "data": {
      "image/png": "[encoded data removed]",
      "text/plain": [
       "<Figure size 432x288 with 1 Axes>"
      ]
     },
     "metadata": {
      "needs_background": "light"
     },
     "output_type": "display_data"
    },
    {
     "data": {
      "image/png": "[encoded data removed]",
      "text/plain": [
       "<Figure size 432x288 with 1 Axes>"
      ]
     },
     "metadata": {
      "needs_background": "light"
     },
     "output_type": "display_data"
    },
    {
     "data": {
      "image/png": "[encoded data removed]",
      "text/plain": [
       "<Figure size 432x288 with 1 Axes>"
      ]
     },
     "metadata": {
      "needs_background": "light"
     },
     "output_type": "display_data"
    },
    {
     "data": {
      "image/png": "[encoded data removed]",
      "text/plain": [
       "<Figure size 432x288 with 1 Axes>"
      ]
     },
     "metadata": {
      "needs_background": "light"
     },
     "output_type": "display_data"
    },
    {
     "data": {
      "image/png": "[encoded data removed]",
      "text/plain": [
       "<Figure size 432x288 with 1 Axes>"
      ]
     },
     "metadata": {
      "needs_background": "light"
     },
     "output_type": "display_data"
    },
    {
     "data": {
      "image/png": "[encoded data removed]",
      "text/plain": [
       "<Figure size 432x288 with 1 Axes>"
      ]
     },
     "metadata": {
      "needs_background": "light"
     },
     "output_type": "display_data"
    }
   ],
   "source": [
    "# Basic test\n",
    "# moves = ['up', 'up', 'right', 'up', 'up', 'left']\n",
    "actions = torch.tensor([0, 0, 3, 0, 0, 1]).unsqueeze(1)\n",
    "\n",
    "test_world = get_test_world()\n",
    "for a in actions:\n",
    "    plot_world(test_world)\n",
    "    plt.show()\n",
    "    test_world, reward, done, info = step_worlds(test_world, a)\n",
    "    \n",
    "plot_world(test_world)\n",
    "plt.show()"
   ]
  },
  {
   "cell_type": "code",
   "execution_count": null,
   "metadata": {},
   "outputs": [],
   "source": []
  },
  {
   "cell_type": "code",
   "execution_count": null,
   "metadata": {},
   "outputs": [],
   "source": []
  },
  {
   "cell_type": "code",
   "execution_count": null,
   "metadata": {},
   "outputs": [],
   "source": []
  },
  {
   "cell_type": "code",
   "execution_count": null,
   "metadata": {},
   "outputs": [],
   "source": []
  },
  {
   "cell_type": "code",
   "execution_count": null,
   "metadata": {},
   "outputs": [],
   "source": []
  }
 ],
 "metadata": {
  "kernelspec": {
   "display_name": "Python 3",
   "language": "python",
   "name": "python3"
  },
  "language_info": {
   "codemirror_mode": {
    "name": "ipython",
    "version": 3
   },
   "file_extension": ".py",
   "mimetype": "text/x-python",
   "name": "python",
   "nbconvert_exporter": "python",
   "pygments_lexer": "ipython3",
   "version": "3.7.4"
  }
 },
 "nbformat": 4,
 "nbformat_minor": 2
}
